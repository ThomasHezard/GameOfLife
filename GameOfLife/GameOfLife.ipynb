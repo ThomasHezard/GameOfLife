{
 "cells": [
  {
   "cell_type": "code",
   "execution_count": 12,
   "metadata": {},
   "outputs": [
    {
     "ename": "KeyboardInterrupt",
     "evalue": "",
     "output_type": "error",
     "traceback": [
      "\u001b[0;31m---------------------------------------------------------------------------\u001b[0m",
      "\u001b[0;31mKeyboardInterrupt\u001b[0m                         Traceback (most recent call last)",
      "Cell \u001b[0;32mIn[12], line 65\u001b[0m\n\u001b[1;32m     63\u001b[0m   display(figure)\n\u001b[1;32m     64\u001b[0m   clear_output(wait\u001b[38;5;241m=\u001b[39m\u001b[38;5;28;01mTrue\u001b[39;00m)\n\u001b[0;32m---> 65\u001b[0m   \u001b[43mtime\u001b[49m\u001b[38;5;241;43m.\u001b[39;49m\u001b[43msleep\u001b[49m\u001b[43m(\u001b[49m\u001b[43mtime_step\u001b[49m\u001b[43m)\u001b[49m\n\u001b[1;32m     66\u001b[0m \u001b[38;5;28;01mif\u001b[39;00m video_encoding:\n\u001b[1;32m     67\u001b[0m   filename \u001b[38;5;241m=\u001b[39m \u001b[38;5;124mf\u001b[39m\u001b[38;5;124m\"\u001b[39m\u001b[38;5;124mimg/im_\u001b[39m\u001b[38;5;132;01m{\u001b[39;00mcounter\u001b[38;5;132;01m:\u001b[39;00m\u001b[38;5;124m03d\u001b[39m\u001b[38;5;132;01m}\u001b[39;00m\u001b[38;5;124m.png\u001b[39m\u001b[38;5;124m\"\u001b[39m\n",
      "\u001b[0;31mKeyboardInterrupt\u001b[0m: "
     ]
    },
    {
     "data": {
      "image/png": "[encoded data removed]",
      "text/plain": [
       "<Figure size 1000x800 with 1 Axes>"
      ]
     },
     "metadata": {},
     "output_type": "display_data"
    }
   ],
   "source": [
    "# Imports\n",
    "import matplotlib.pyplot as plt\n",
    "import numpy as np\n",
    "from scipy.signal import convolve2d\n",
    "import random\n",
    "import time\n",
    "from IPython.display import display, clear_output\n",
    "from tqdm.auto import tqdm\n",
    "import os, shutil, subprocess\n",
    "\n",
    "# Parameters\n",
    "init_proba = 0.2\n",
    "grid_shape = [128, 128]\n",
    "nb_steps = 2000\n",
    "time_step = 0.1\n",
    "video_size_factor = 5\n",
    "video_frame_rate = 5\n",
    "tmp_dir = 'img'\n",
    "interactive_visual = True\n",
    "video_encoding = False\n",
    "\n",
    "\n",
    "# *********************************************************\n",
    "\n",
    "\n",
    "def init_random_grid(grid, init_proba):\n",
    "  for i in range(grid.shape[0]):\n",
    "    for j in range(grid.shape[1]):\n",
    "      grid[i, j] = float(random.uniform(0.0, 1.0) < init_proba)\n",
    "\n",
    "def init_grid(grid):\n",
    "  init_random_grid(grid, init_proba)\n",
    "\n",
    "kernel = np.array([[1, 1, 1],[1, 0, 1],[1, 1, 1]])\n",
    "def update_grid(grid):\n",
    "  tmp_grid = convolve2d(grid, kernel, mode='same', boundary='wrap')\n",
    "  death_indexes = np.logical_and(grid == 1.0, np.logical_or(tmp_grid < 2, tmp_grid > 3))\n",
    "  birth_indexes = np.logical_and(grid == 0.0, tmp_grid == 3)\n",
    "  tmp_grid = np.copy(grid)\n",
    "  tmp_grid[death_indexes] = 0.0\n",
    "  tmp_grid[birth_indexes] = 1.0\n",
    "  return tmp_grid\n",
    "\n",
    "\n",
    "grid = np.zeros(grid_shape)\n",
    "init_grid(grid)\n",
    "\n",
    "if video_encoding:\n",
    "  shutil.rmtree(tmp_dir, ignore_errors=True)\n",
    "  os.mkdir(tmp_dir)\n",
    "\n",
    "if interactive_visual:\n",
    "  plt.ion()\n",
    "  figure, ax = plt.subplots(figsize=(10, 8))\n",
    "  img = ax.imshow(grid, cmap='viridis')\n",
    "  ax.axis('off')\n",
    "  ax.set_frame_on(False)\n",
    "\n",
    "counter = 0\n",
    "for step in range(nb_steps) if interactive_visual else tqdm(range(nb_steps)):\n",
    "  if interactive_visual:\n",
    "    img.set_array(grid)\n",
    "    display(figure)\n",
    "    clear_output(wait=True)\n",
    "    time.sleep(time_step)\n",
    "  if video_encoding:\n",
    "    filename = f\"img/im_{counter:03d}.png\"\n",
    "    plt.imsave(filename, grid)\n",
    "  grid = update_grid(grid)\n",
    "  counter += 1\n",
    "\n",
    "if video_encoding:\n",
    "  cmd = f\"ffmpeg -y -framerate {video_frame_rate} -pattern_type glob -i '{tmp_dir}/*.png' -vf scale={grid_shape[0]*video_size_factor}:{grid_shape[1]*video_size_factor}:flags=neighbor -c:v libx264 -preset slow -crf 17 -pix_fmt yuv420p -movflags +faststart out.mp4\"\n",
    "  res = subprocess.run(cmd, shell=True, stdout=subprocess.DEVNULL, stderr=subprocess.DEVNULL)\n",
    "  shutil.rmtree(tmp_dir, ignore_errors=True)\n"
   ]
  }
 ],
 "metadata": {
  "kernelspec": {
   "display_name": "jeu_de_la_vie",
   "language": "python",
   "name": "python3"
  },
  "language_info": {
   "codemirror_mode": {
    "name": "ipython",
    "version": 3
   },
   "file_extension": ".py",
   "mimetype": "text/x-python",
   "name": "python",
   "nbconvert_exporter": "python",
   "pygments_lexer": "ipython3",
   "version": "3.10.13"
  }
 },
 "nbformat": 4,
 "nbformat_minor": 2
}
